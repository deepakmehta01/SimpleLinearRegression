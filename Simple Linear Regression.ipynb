{
 "cells": [
  {
   "cell_type": "markdown",
   "id": "c14afa8f",
   "metadata": {},
   "source": [
    "# Step 1: Bussiness Problem Understanding\n",
    "\n",
    "### ●  Indetify the relationship between total advertising spend and sales ? \n",
    "### ●  Our next ad campaign will have a total spend of 200,000 ,how many units do we expect to sell as a result of this?"
   ]
  },
  {
   "cell_type": "code",
   "execution_count": 1,
   "id": "a80e01f1",
   "metadata": {},
   "outputs": [],
   "source": [
    "import numpy as np\n",
    "import pandas as pd\n",
    "import matplotlib.pyplot as plt\n",
    "%matplotlib inline\n",
    "import seaborn as sns"
   ]
  },
  {
   "cell_type": "markdown",
   "id": "6a121e15",
   "metadata": {},
   "source": [
    "# Step 2 : Data Understanding\n",
    "### 2.1 : Data Collection"
   ]
  },
  {
   "cell_type": "code",
   "execution_count": 2,
   "id": "39525ec8",
   "metadata": {},
   "outputs": [
    {
     "data": {
      "text/html": [
       "<div>\n",
       "<style scoped>\n",
       "    .dataframe tbody tr th:only-of-type {\n",
       "        vertical-align: middle;\n",
       "    }\n",
       "\n",
       "    .dataframe tbody tr th {\n",
       "        vertical-align: top;\n",
       "    }\n",
       "\n",
       "    .dataframe thead th {\n",
       "        text-align: right;\n",
       "    }\n",
       "</style>\n",
       "<table border=\"1\" class=\"dataframe\">\n",
       "  <thead>\n",
       "    <tr style=\"text-align: right;\">\n",
       "      <th></th>\n",
       "      <th>TV</th>\n",
       "      <th>Radio</th>\n",
       "      <th>Newspaper</th>\n",
       "      <th>Sales</th>\n",
       "    </tr>\n",
       "  </thead>\n",
       "  <tbody>\n",
       "    <tr>\n",
       "      <th>0</th>\n",
       "      <td>230100</td>\n",
       "      <td>37800</td>\n",
       "      <td>69200</td>\n",
       "      <td>22100</td>\n",
       "    </tr>\n",
       "    <tr>\n",
       "      <th>1</th>\n",
       "      <td>44500</td>\n",
       "      <td>39300</td>\n",
       "      <td>45100</td>\n",
       "      <td>10400</td>\n",
       "    </tr>\n",
       "    <tr>\n",
       "      <th>2</th>\n",
       "      <td>17200</td>\n",
       "      <td>45900</td>\n",
       "      <td>69300</td>\n",
       "      <td>9300</td>\n",
       "    </tr>\n",
       "    <tr>\n",
       "      <th>3</th>\n",
       "      <td>151500</td>\n",
       "      <td>41300</td>\n",
       "      <td>58500</td>\n",
       "      <td>18500</td>\n",
       "    </tr>\n",
       "    <tr>\n",
       "      <th>4</th>\n",
       "      <td>180800</td>\n",
       "      <td>10800</td>\n",
       "      <td>58400</td>\n",
       "      <td>12900</td>\n",
       "    </tr>\n",
       "  </tbody>\n",
       "</table>\n",
       "</div>"
      ],
      "text/plain": [
       "       TV  Radio  Newspaper  Sales\n",
       "0  230100  37800      69200  22100\n",
       "1   44500  39300      45100  10400\n",
       "2   17200  45900      69300   9300\n",
       "3  151500  41300      58500  18500\n",
       "4  180800  10800      58400  12900"
      ]
     },
     "execution_count": 2,
     "metadata": {},
     "output_type": "execute_result"
    }
   ],
   "source": [
    "df = pd.read_csv('Advertising.csv')\n",
    "df.head()"
   ]
  },
  {
   "cell_type": "code",
   "execution_count": 3,
   "id": "4cbe30be",
   "metadata": {},
   "outputs": [
    {
     "name": "stdout",
     "output_type": "stream",
     "text": [
      "<class 'pandas.core.frame.DataFrame'>\n",
      "RangeIndex: 200 entries, 0 to 199\n",
      "Data columns (total 4 columns):\n",
      " #   Column     Non-Null Count  Dtype\n",
      "---  ------     --------------  -----\n",
      " 0   TV         200 non-null    int64\n",
      " 1   Radio      200 non-null    int64\n",
      " 2   Newspaper  200 non-null    int64\n",
      " 3   Sales      200 non-null    int64\n",
      "dtypes: int64(4)\n",
      "memory usage: 6.4 KB\n"
     ]
    }
   ],
   "source": [
    "df.info()"
   ]
  },
  {
   "cell_type": "markdown",
   "id": "8433f9e1",
   "metadata": {},
   "source": [
    "### If someone wants to spend a total_amount of 200,000 ,what would be the expected sales?\n",
    "####  ● Here we need to find the total_sales by combining Tv Radio and newspaper"
   ]
  },
  {
   "cell_type": "code",
   "execution_count": 4,
   "id": "30d7af03",
   "metadata": {},
   "outputs": [
    {
     "data": {
      "text/html": [
       "<div>\n",
       "<style scoped>\n",
       "    .dataframe tbody tr th:only-of-type {\n",
       "        vertical-align: middle;\n",
       "    }\n",
       "\n",
       "    .dataframe tbody tr th {\n",
       "        vertical-align: top;\n",
       "    }\n",
       "\n",
       "    .dataframe thead th {\n",
       "        text-align: right;\n",
       "    }\n",
       "</style>\n",
       "<table border=\"1\" class=\"dataframe\">\n",
       "  <thead>\n",
       "    <tr style=\"text-align: right;\">\n",
       "      <th></th>\n",
       "      <th>TV</th>\n",
       "      <th>Radio</th>\n",
       "      <th>Newspaper</th>\n",
       "      <th>Sales</th>\n",
       "      <th>total_spend</th>\n",
       "    </tr>\n",
       "  </thead>\n",
       "  <tbody>\n",
       "    <tr>\n",
       "      <th>0</th>\n",
       "      <td>230100</td>\n",
       "      <td>37800</td>\n",
       "      <td>69200</td>\n",
       "      <td>22100</td>\n",
       "      <td>337100</td>\n",
       "    </tr>\n",
       "    <tr>\n",
       "      <th>1</th>\n",
       "      <td>44500</td>\n",
       "      <td>39300</td>\n",
       "      <td>45100</td>\n",
       "      <td>10400</td>\n",
       "      <td>128900</td>\n",
       "    </tr>\n",
       "    <tr>\n",
       "      <th>2</th>\n",
       "      <td>17200</td>\n",
       "      <td>45900</td>\n",
       "      <td>69300</td>\n",
       "      <td>9300</td>\n",
       "      <td>132400</td>\n",
       "    </tr>\n",
       "    <tr>\n",
       "      <th>3</th>\n",
       "      <td>151500</td>\n",
       "      <td>41300</td>\n",
       "      <td>58500</td>\n",
       "      <td>18500</td>\n",
       "      <td>251300</td>\n",
       "    </tr>\n",
       "    <tr>\n",
       "      <th>4</th>\n",
       "      <td>180800</td>\n",
       "      <td>10800</td>\n",
       "      <td>58400</td>\n",
       "      <td>12900</td>\n",
       "      <td>250000</td>\n",
       "    </tr>\n",
       "  </tbody>\n",
       "</table>\n",
       "</div>"
      ],
      "text/plain": [
       "       TV  Radio  Newspaper  Sales  total_spend\n",
       "0  230100  37800      69200  22100       337100\n",
       "1   44500  39300      45100  10400       128900\n",
       "2   17200  45900      69300   9300       132400\n",
       "3  151500  41300      58500  18500       251300\n",
       "4  180800  10800      58400  12900       250000"
      ]
     },
     "execution_count": 4,
     "metadata": {},
     "output_type": "execute_result"
    }
   ],
   "source": [
    "df['total_spend'] = df['TV'] + df['Radio'] + df['Newspaper']\n",
    "df.head()"
   ]
  },
  {
   "cell_type": "code",
   "execution_count": 5,
   "id": "35dfc998",
   "metadata": {},
   "outputs": [
    {
     "data": {
      "text/html": [
       "<div>\n",
       "<style scoped>\n",
       "    .dataframe tbody tr th:only-of-type {\n",
       "        vertical-align: middle;\n",
       "    }\n",
       "\n",
       "    .dataframe tbody tr th {\n",
       "        vertical-align: top;\n",
       "    }\n",
       "\n",
       "    .dataframe thead th {\n",
       "        text-align: right;\n",
       "    }\n",
       "</style>\n",
       "<table border=\"1\" class=\"dataframe\">\n",
       "  <thead>\n",
       "    <tr style=\"text-align: right;\">\n",
       "      <th></th>\n",
       "      <th>Sales</th>\n",
       "      <th>total_spend</th>\n",
       "    </tr>\n",
       "  </thead>\n",
       "  <tbody>\n",
       "    <tr>\n",
       "      <th>0</th>\n",
       "      <td>22100</td>\n",
       "      <td>337100</td>\n",
       "    </tr>\n",
       "    <tr>\n",
       "      <th>1</th>\n",
       "      <td>10400</td>\n",
       "      <td>128900</td>\n",
       "    </tr>\n",
       "    <tr>\n",
       "      <th>2</th>\n",
       "      <td>9300</td>\n",
       "      <td>132400</td>\n",
       "    </tr>\n",
       "    <tr>\n",
       "      <th>3</th>\n",
       "      <td>18500</td>\n",
       "      <td>251300</td>\n",
       "    </tr>\n",
       "    <tr>\n",
       "      <th>4</th>\n",
       "      <td>12900</td>\n",
       "      <td>250000</td>\n",
       "    </tr>\n",
       "  </tbody>\n",
       "</table>\n",
       "</div>"
      ],
      "text/plain": [
       "   Sales  total_spend\n",
       "0  22100       337100\n",
       "1  10400       128900\n",
       "2   9300       132400\n",
       "3  18500       251300\n",
       "4  12900       250000"
      ]
     },
     "execution_count": 5,
     "metadata": {},
     "output_type": "execute_result"
    }
   ],
   "source": [
    "df.drop(columns=['TV','Radio','Newspaper'],inplace=True)\n",
    "df.head()"
   ]
  },
  {
   "cell_type": "markdown",
   "id": "3f2fd9e2",
   "metadata": {},
   "source": [
    "# Step 3: Data Preprocessing\n",
    "### 3.1 :  Exploratory Data Analysis(EDA)\n",
    "        On the basis of this data, how should you spend the advertising money in future? These general question might leads you to more specific questions :\n",
    "        1: Is there any relashionship between ads and sales?\n",
    "        2: How strong is that relashionship?\n",
    "        3: Given ad spending, can sales be predicted? "
   ]
  },
  {
   "cell_type": "code",
   "execution_count": 6,
   "id": "6f74a992",
   "metadata": {},
   "outputs": [
    {
     "data": {
      "text/html": [
       "<div>\n",
       "<style scoped>\n",
       "    .dataframe tbody tr th:only-of-type {\n",
       "        vertical-align: middle;\n",
       "    }\n",
       "\n",
       "    .dataframe tbody tr th {\n",
       "        vertical-align: top;\n",
       "    }\n",
       "\n",
       "    .dataframe thead th {\n",
       "        text-align: right;\n",
       "    }\n",
       "</style>\n",
       "<table border=\"1\" class=\"dataframe\">\n",
       "  <thead>\n",
       "    <tr style=\"text-align: right;\">\n",
       "      <th></th>\n",
       "      <th>Sales</th>\n",
       "      <th>total_spend</th>\n",
       "    </tr>\n",
       "  </thead>\n",
       "  <tbody>\n",
       "    <tr>\n",
       "      <th>count</th>\n",
       "      <td>200.000000</td>\n",
       "      <td>200.000000</td>\n",
       "    </tr>\n",
       "    <tr>\n",
       "      <th>mean</th>\n",
       "      <td>14022.500000</td>\n",
       "      <td>200860.495000</td>\n",
       "    </tr>\n",
       "    <tr>\n",
       "      <th>std</th>\n",
       "      <td>5217.456566</td>\n",
       "      <td>92985.173284</td>\n",
       "    </tr>\n",
       "    <tr>\n",
       "      <th>min</th>\n",
       "      <td>1600.000000</td>\n",
       "      <td>11700.000000</td>\n",
       "    </tr>\n",
       "    <tr>\n",
       "      <th>25%</th>\n",
       "      <td>10375.000000</td>\n",
       "      <td>123550.000000</td>\n",
       "    </tr>\n",
       "    <tr>\n",
       "      <th>50%</th>\n",
       "      <td>12900.000000</td>\n",
       "      <td>207350.000000</td>\n",
       "    </tr>\n",
       "    <tr>\n",
       "      <th>75%</th>\n",
       "      <td>17400.000000</td>\n",
       "      <td>281125.000000</td>\n",
       "    </tr>\n",
       "    <tr>\n",
       "      <th>max</th>\n",
       "      <td>27000.000000</td>\n",
       "      <td>433600.000000</td>\n",
       "    </tr>\n",
       "  </tbody>\n",
       "</table>\n",
       "</div>"
      ],
      "text/plain": [
       "              Sales    total_spend\n",
       "count    200.000000     200.000000\n",
       "mean   14022.500000  200860.495000\n",
       "std     5217.456566   92985.173284\n",
       "min     1600.000000   11700.000000\n",
       "25%    10375.000000  123550.000000\n",
       "50%    12900.000000  207350.000000\n",
       "75%    17400.000000  281125.000000\n",
       "max    27000.000000  433600.000000"
      ]
     },
     "execution_count": 6,
     "metadata": {},
     "output_type": "execute_result"
    }
   ],
   "source": [
    "df.describe()"
   ]
  },
  {
   "cell_type": "code",
   "execution_count": 7,
   "id": "eb5c777b",
   "metadata": {},
   "outputs": [
    {
     "data": {
      "image/png": "[encoded data removed]",
      "text/plain": [
       "<Figure size 500x500 with 6 Axes>"
      ]
     },
     "metadata": {},
     "output_type": "display_data"
    }
   ],
   "source": [
    "sns.pairplot(df)\n",
    "plt.show()"
   ]
  },
  {
   "cell_type": "code",
   "execution_count": 8,
   "id": "db50819c",
   "metadata": {},
   "outputs": [],
   "source": [
    "# Here we can colclude that sales and total_spend having a very good correlation as\n",
    "# all the data points are very close to each e=other"
   ]
  },
  {
   "cell_type": "code",
   "execution_count": 9,
   "id": "f76eb2cf",
   "metadata": {},
   "outputs": [
    {
     "data": {
      "text/html": [
       "<div>\n",
       "<style scoped>\n",
       "    .dataframe tbody tr th:only-of-type {\n",
       "        vertical-align: middle;\n",
       "    }\n",
       "\n",
       "    .dataframe tbody tr th {\n",
       "        vertical-align: top;\n",
       "    }\n",
       "\n",
       "    .dataframe thead th {\n",
       "        text-align: right;\n",
       "    }\n",
       "</style>\n",
       "<table border=\"1\" class=\"dataframe\">\n",
       "  <thead>\n",
       "    <tr style=\"text-align: right;\">\n",
       "      <th></th>\n",
       "      <th>Sales</th>\n",
       "      <th>total_spend</th>\n",
       "    </tr>\n",
       "  </thead>\n",
       "  <tbody>\n",
       "    <tr>\n",
       "      <th>Sales</th>\n",
       "      <td>1.000000</td>\n",
       "      <td>0.867712</td>\n",
       "    </tr>\n",
       "    <tr>\n",
       "      <th>total_spend</th>\n",
       "      <td>0.867712</td>\n",
       "      <td>1.000000</td>\n",
       "    </tr>\n",
       "  </tbody>\n",
       "</table>\n",
       "</div>"
      ],
      "text/plain": [
       "                Sales  total_spend\n",
       "Sales        1.000000     0.867712\n",
       "total_spend  0.867712     1.000000"
      ]
     },
     "execution_count": 9,
     "metadata": {},
     "output_type": "execute_result"
    }
   ],
   "source": [
    "df.corr()"
   ]
  },
  {
   "cell_type": "code",
   "execution_count": 10,
   "id": "69397ef3",
   "metadata": {},
   "outputs": [],
   "source": [
    "# They are having a good correlation"
   ]
  },
  {
   "cell_type": "markdown",
   "id": "d4e2cb9b",
   "metadata": {},
   "source": [
    "### 3.2:  Data Cleaning "
   ]
  },
  {
   "cell_type": "code",
   "execution_count": 11,
   "id": "76098bf8",
   "metadata": {},
   "outputs": [
    {
     "data": {
      "text/plain": [
       "Sales          0\n",
       "total_spend    0\n",
       "dtype: int64"
      ]
     },
     "execution_count": 11,
     "metadata": {},
     "output_type": "execute_result"
    }
   ],
   "source": [
    "df.isna().sum()"
   ]
  },
  {
   "cell_type": "markdown",
   "id": "13c825c9",
   "metadata": {},
   "source": [
    "### 3.3 Data Wrangling"
   ]
  },
  {
   "cell_type": "code",
   "execution_count": 12,
   "id": "ce1b6642",
   "metadata": {},
   "outputs": [],
   "source": [
    "# No data Wrangling required"
   ]
  },
  {
   "cell_type": "markdown",
   "id": "86a3793d",
   "metadata": {},
   "source": [
    "### 3.4 Train-Test-Split"
   ]
  },
  {
   "cell_type": "code",
   "execution_count": 13,
   "id": "2797ca47",
   "metadata": {},
   "outputs": [],
   "source": [
    "# X and y\n",
    "\n",
    "X = df[['total_spend']]\n",
    "y = df.Sales"
   ]
  },
  {
   "cell_type": "code",
   "execution_count": 14,
   "id": "1f3fe808",
   "metadata": {},
   "outputs": [],
   "source": [
    "from sklearn.model_selection import train_test_split\n",
    "X_train,X_test,y_train,y_test = train_test_split(X,y,test_size=0.3,random_state=42)"
   ]
  },
  {
   "cell_type": "markdown",
   "id": "13d8ddf6",
   "metadata": {},
   "source": [
    "# Step 4: Modelling"
   ]
  },
  {
   "cell_type": "code",
   "execution_count": 15,
   "id": "05bd950e",
   "metadata": {},
   "outputs": [
    {
     "data": {
      "text/plain": [
       "LinearRegression()"
      ]
     },
     "execution_count": 15,
     "metadata": {},
     "output_type": "execute_result"
    }
   ],
   "source": [
    "from sklearn.linear_model import LinearRegression\n",
    "model  = LinearRegression()\n",
    "model.fit(X_train,y_train)"
   ]
  },
  {
   "cell_type": "code",
   "execution_count": 16,
   "id": "63bb1ea7",
   "metadata": {},
   "outputs": [
    {
     "data": {
      "text/plain": [
       "4199.10650086872"
      ]
     },
     "execution_count": 16,
     "metadata": {},
     "output_type": "execute_result"
    }
   ],
   "source": [
    "#intercept\n",
    "model.intercept_"
   ]
  },
  {
   "cell_type": "code",
   "execution_count": 17,
   "id": "4548adaa",
   "metadata": {},
   "outputs": [
    {
     "data": {
      "text/plain": [
       "array([0.04895385])"
      ]
     },
     "execution_count": 17,
     "metadata": {},
     "output_type": "execute_result"
    }
   ],
   "source": [
    "# coefficient\n",
    "model.coef_"
   ]
  },
  {
   "cell_type": "code",
   "execution_count": 18,
   "id": "46fd2000",
   "metadata": {},
   "outputs": [],
   "source": [
    "# Now our model equation looks like\n",
    "#  sales_pred = 4199.1 + 0.048(total_spend)"
   ]
  },
  {
   "cell_type": "markdown",
   "id": "dcb50633",
   "metadata": {},
   "source": [
    "### Predictions"
   ]
  },
  {
   "cell_type": "code",
   "execution_count": 19,
   "id": "c65c46e7",
   "metadata": {},
   "outputs": [],
   "source": [
    "train_predictions = model.predict(X_train)\n",
    "test_predictions = model.predict(X_test)"
   ]
  },
  {
   "cell_type": "markdown",
   "id": "bedb7773",
   "metadata": {},
   "source": [
    "# Step 5:  Evaluation"
   ]
  },
  {
   "cell_type": "code",
   "execution_count": 20,
   "id": "37735709",
   "metadata": {},
   "outputs": [
    {
     "name": "stdout",
     "output_type": "stream",
     "text": [
      "R2 Score of Train Data is :  0.7404192834391545\n",
      "R2 Score of Test Data is :  0.7650263029606331\n"
     ]
    }
   ],
   "source": [
    "from sklearn.metrics import r2_score\n",
    "print('R2 Score of Train Data is : ', r2_score(y_train,train_predictions))\n",
    "print('R2 Score of Test Data is : ', r2_score(y_test,test_predictions))"
   ]
  },
  {
   "cell_type": "code",
   "execution_count": 21,
   "id": "5e9a363a",
   "metadata": {},
   "outputs": [],
   "source": [
    "# Here we dont have any Overfitting or Underfitting problem "
   ]
  },
  {
   "cell_type": "code",
   "execution_count": 22,
   "id": "41081704",
   "metadata": {},
   "outputs": [],
   "source": [
    "# Test R-square"
   ]
  },
  {
   "cell_type": "code",
   "execution_count": 23,
   "id": "d9d7ce8a",
   "metadata": {},
   "outputs": [
    {
     "data": {
      "text/plain": [
       "0.7650263029606331"
      ]
     },
     "execution_count": 23,
     "metadata": {},
     "output_type": "execute_result"
    }
   ],
   "source": [
    "model.score(X_test,y_test)"
   ]
  },
  {
   "cell_type": "code",
   "execution_count": 24,
   "id": "920a0246",
   "metadata": {},
   "outputs": [],
   "source": [
    "#Train R-Square"
   ]
  },
  {
   "cell_type": "code",
   "execution_count": 25,
   "id": "f56210a3",
   "metadata": {},
   "outputs": [
    {
     "data": {
      "text/plain": [
       "0.7404192834391545"
      ]
     },
     "execution_count": 25,
     "metadata": {},
     "output_type": "execute_result"
    }
   ],
   "source": [
    "model.score(X_train,y_train)"
   ]
  },
  {
   "cell_type": "markdown",
   "id": "e847b7c9",
   "metadata": {},
   "source": [
    "# Checklist\n",
    "      ● 1.  Check whether the model has overfitting or underfitting problem\n",
    "      ● 2.  Is test accuracy = cross validation score\n",
    "      ● 4.  Check model meets the bussiness problem requirements\n",
    "      ● 5.  Finally save the model and share to the deployment team\n",
    "\n",
    "### For Linear Regression we have an addition checklist point\n",
    "      ● 3. Check Assumptions (If it is linear)"
   ]
  },
  {
   "cell_type": "markdown",
   "id": "71e372ce",
   "metadata": {},
   "source": [
    "### 1. Linearity Of Errors"
   ]
  },
  {
   "cell_type": "code",
   "execution_count": 26,
   "id": "63b1fd63",
   "metadata": {},
   "outputs": [],
   "source": [
    "test_residuals = y_test - test_predictions"
   ]
  },
  {
   "cell_type": "code",
   "execution_count": 27,
   "id": "449fb2c1",
   "metadata": {},
   "outputs": [
    {
     "data": {
      "image/png": "[encoded data removed]",
      "text/plain": [
       "<Figure size 640x480 with 1 Axes>"
      ]
     },
     "metadata": {},
     "output_type": "display_data"
    }
   ],
   "source": [
    "sns.scatterplot(x = y_test,y = test_residuals)\n",
    "plt.xlabel('Actual Test')\n",
    "plt.ylabel('Residuals')\n",
    "plt.show()"
   ]
  },
  {
   "cell_type": "markdown",
   "id": "30982f58",
   "metadata": {},
   "source": [
    "### 2. Normality of Errors"
   ]
  },
  {
   "cell_type": "code",
   "execution_count": 28,
   "id": "78386876",
   "metadata": {},
   "outputs": [
    {
     "data": {
      "image/png": "[encoded data removed]",
      "text/plain": [
       "<Figure size 500x500 with 1 Axes>"
      ]
     },
     "metadata": {},
     "output_type": "display_data"
    }
   ],
   "source": [
    "sns.displot(test_residuals,kde=True)\n",
    "plt.show()"
   ]
  },
  {
   "cell_type": "markdown",
   "id": "5aa376e4",
   "metadata": {},
   "source": [
    "### 3. Equal Variance Of Errors (Homoscadasticity)"
   ]
  },
  {
   "cell_type": "code",
   "execution_count": 38,
   "id": "9aeb56e6",
   "metadata": {},
   "outputs": [
    {
     "data": {
      "image/png": "[encoded data removed]",
      "text/plain": [
       "<Figure size 640x480 with 1 Axes>"
      ]
     },
     "metadata": {},
     "output_type": "display_data"
    }
   ],
   "source": [
    "sns.scatterplot(x = test_predictions,y = test_residuals,color='r')\n",
    "plt.axhline(y=0,color='b')\n",
    "plt.axhline(y=6000,color='g')\n",
    "plt.axhline(y=-6000,color='g')\n",
    "\n",
    "\n",
    "plt.show()"
   ]
  },
  {
   "cell_type": "markdown",
   "id": "cc3de665",
   "metadata": {},
   "source": [
    "### 4. Variable Significance"
   ]
  },
  {
   "cell_type": "code",
   "execution_count": 40,
   "id": "c3b6f92f",
   "metadata": {},
   "outputs": [
    {
     "data": {
      "text/html": [
       "<table class=\"simpletable\">\n",
       "<caption>OLS Regression Results</caption>\n",
       "<tr>\n",
       "  <th>Dep. Variable:</th>            <td>y</td>        <th>  R-squared:         </th> <td>   0.753</td>\n",
       "</tr>\n",
       "<tr>\n",
       "  <th>Model:</th>                   <td>OLS</td>       <th>  Adj. R-squared:    </th> <td>   0.752</td>\n",
       "</tr>\n",
       "<tr>\n",
       "  <th>Method:</th>             <td>Least Squares</td>  <th>  F-statistic:       </th> <td>   603.4</td>\n",
       "</tr>\n",
       "<tr>\n",
       "  <th>Date:</th>             <td>Wed, 03 May 2023</td> <th>  Prob (F-statistic):</th> <td>5.06e-62</td>\n",
       "</tr>\n",
       "<tr>\n",
       "  <th>Time:</th>                 <td>22:55:02</td>     <th>  Log-Likelihood:    </th> <td> -1855.4</td>\n",
       "</tr>\n",
       "<tr>\n",
       "  <th>No. Observations:</th>      <td>   200</td>      <th>  AIC:               </th> <td>   3715.</td>\n",
       "</tr>\n",
       "<tr>\n",
       "  <th>Df Residuals:</th>          <td>   198</td>      <th>  BIC:               </th> <td>   3721.</td>\n",
       "</tr>\n",
       "<tr>\n",
       "  <th>Df Model:</th>              <td>     1</td>      <th>                     </th>     <td> </td>   \n",
       "</tr>\n",
       "<tr>\n",
       "  <th>Covariance Type:</th>      <td>nonrobust</td>    <th>                     </th>     <td> </td>   \n",
       "</tr>\n",
       "</table>\n",
       "<table class=\"simpletable\">\n",
       "<tr>\n",
       "      <td></td>         <th>coef</th>     <th>std err</th>      <th>t</th>      <th>P>|t|</th>  <th>[0.025</th>    <th>0.975]</th>  \n",
       "</tr>\n",
       "<tr>\n",
       "  <th>Intercept</th> <td> 4243.0276</td> <td>  438.525</td> <td>    9.676</td> <td> 0.000</td> <td> 3378.248</td> <td> 5107.807</td>\n",
       "</tr>\n",
       "<tr>\n",
       "  <th>X</th>         <td>    0.0487</td> <td>    0.002</td> <td>   24.564</td> <td> 0.000</td> <td>    0.045</td> <td>    0.053</td>\n",
       "</tr>\n",
       "</table>\n",
       "<table class=\"simpletable\">\n",
       "<tr>\n",
       "  <th>Omnibus:</th>       <td> 6.851</td> <th>  Durbin-Watson:     </th> <td>   1.967</td>\n",
       "</tr>\n",
       "<tr>\n",
       "  <th>Prob(Omnibus):</th> <td> 0.033</td> <th>  Jarque-Bera (JB):  </th> <td>   6.692</td>\n",
       "</tr>\n",
       "<tr>\n",
       "  <th>Skew:</th>          <td>-0.373</td> <th>  Prob(JB):          </th> <td>  0.0352</td>\n",
       "</tr>\n",
       "<tr>\n",
       "  <th>Kurtosis:</th>      <td> 3.495</td> <th>  Cond. No.          </th> <td>5.28e+05</td>\n",
       "</tr>\n",
       "</table><br/><br/>Notes:<br/>[1] Standard Errors assume that the covariance matrix of the errors is correctly specified.<br/>[2] The condition number is large, 5.28e+05. This might indicate that there are<br/>strong multicollinearity or other numerical problems."
      ],
      "text/plain": [
       "<class 'statsmodels.iolib.summary.Summary'>\n",
       "\"\"\"\n",
       "                            OLS Regression Results                            \n",
       "==============================================================================\n",
       "Dep. Variable:                      y   R-squared:                       0.753\n",
       "Model:                            OLS   Adj. R-squared:                  0.752\n",
       "Method:                 Least Squares   F-statistic:                     603.4\n",
       "Date:                Wed, 03 May 2023   Prob (F-statistic):           5.06e-62\n",
       "Time:                        22:55:02   Log-Likelihood:                -1855.4\n",
       "No. Observations:                 200   AIC:                             3715.\n",
       "Df Residuals:                     198   BIC:                             3721.\n",
       "Df Model:                           1                                         \n",
       "Covariance Type:            nonrobust                                         \n",
       "==============================================================================\n",
       "                 coef    std err          t      P>|t|      [0.025      0.975]\n",
       "------------------------------------------------------------------------------\n",
       "Intercept   4243.0276    438.525      9.676      0.000    3378.248    5107.807\n",
       "X              0.0487      0.002     24.564      0.000       0.045       0.053\n",
       "==============================================================================\n",
       "Omnibus:                        6.851   Durbin-Watson:                   1.967\n",
       "Prob(Omnibus):                  0.033   Jarque-Bera (JB):                6.692\n",
       "Skew:                          -0.373   Prob(JB):                       0.0352\n",
       "Kurtosis:                       3.495   Cond. No.                     5.28e+05\n",
       "==============================================================================\n",
       "\n",
       "Notes:\n",
       "[1] Standard Errors assume that the covariance matrix of the errors is correctly specified.\n",
       "[2] The condition number is large, 5.28e+05. This might indicate that there are\n",
       "strong multicollinearity or other numerical problems.\n",
       "\"\"\""
      ]
     },
     "execution_count": 40,
     "metadata": {},
     "output_type": "execute_result"
    }
   ],
   "source": [
    "import statsmodels.formula.api as smf\n",
    "model2 = smf.ols(\"y~X\",data=df).fit()\n",
    "model2.summary()"
   ]
  },
  {
   "cell_type": "markdown",
   "id": "389dc171",
   "metadata": {},
   "source": [
    "# Step 6: Final Inferences\n",
    "### Our next ad campaign will have a total spend of 200k ,how many units do we expect to sell as the result of this?\n"
   ]
  },
  {
   "cell_type": "code",
   "execution_count": 44,
   "id": "522cfca0",
   "metadata": {},
   "outputs": [
    {
     "name": "stderr",
     "output_type": "stream",
     "text": [
      "C:\\Users\\Deepak Mehta\\anaconda3\\lib\\site-packages\\sklearn\\base.py:450: UserWarning: X does not have valid feature names, but LinearRegression was fitted with feature names\n",
      "  warnings.warn(\n"
     ]
    },
    {
     "data": {
      "text/plain": [
       "array([13989.87609126])"
      ]
     },
     "execution_count": 44,
     "metadata": {},
     "output_type": "execute_result"
    }
   ],
   "source": [
    "model.predict([[200000]])"
   ]
  },
  {
   "cell_type": "markdown",
   "id": "c4158407",
   "metadata": {},
   "source": [
    "# SAVE A MODEL"
   ]
  },
  {
   "cell_type": "code",
   "execution_count": 45,
   "id": "2428a3a8",
   "metadata": {},
   "outputs": [
    {
     "data": {
      "text/plain": [
       "['sales_model.joblib']"
      ]
     },
     "execution_count": 45,
     "metadata": {},
     "output_type": "execute_result"
    }
   ],
   "source": [
    "from joblib import dump\n",
    "\n",
    "dump(model,'sales_model.joblib')"
   ]
  },
  {
   "cell_type": "markdown",
   "id": "a412c629",
   "metadata": {},
   "source": [
    "# LOAD THE MODEL"
   ]
  },
  {
   "cell_type": "code",
   "execution_count": 47,
   "id": "f2bc0333",
   "metadata": {},
   "outputs": [],
   "source": [
    "from joblib import load\n",
    "\n",
    "loaded_model = load('sales_model.joblib')"
   ]
  },
  {
   "cell_type": "code",
   "execution_count": 48,
   "id": "28d92964",
   "metadata": {},
   "outputs": [
    {
     "name": "stderr",
     "output_type": "stream",
     "text": [
      "C:\\Users\\Deepak Mehta\\anaconda3\\lib\\site-packages\\sklearn\\base.py:450: UserWarning: X does not have valid feature names, but LinearRegression was fitted with feature names\n",
      "  warnings.warn(\n"
     ]
    },
    {
     "data": {
      "text/plain": [
       "array([13989.87609126])"
      ]
     },
     "execution_count": 48,
     "metadata": {},
     "output_type": "execute_result"
    }
   ],
   "source": [
    "loaded_model.predict([[200000]])"
   ]
  },
  {
   "cell_type": "code",
   "execution_count": null,
   "id": "b8bad96d",
   "metadata": {},
   "outputs": [],
   "source": []
  }
 ],
 "metadata": {
  "kernelspec": {
   "display_name": "Python 3 (ipykernel)",
   "language": "python",
   "name": "python3"
  },
  "language_info": {
   "codemirror_mode": {
    "name": "ipython",
    "version": 3
   },
   "file_extension": ".py",
   "mimetype": "text/x-python",
   "name": "python",
   "nbconvert_exporter": "python",
   "pygments_lexer": "ipython3",
   "version": "3.9.13"
  }
 },
 "nbformat": 4,
 "nbformat_minor": 5
}
